{
 "cells": [
  {
   "cell_type": "code",
   "execution_count": 1,
   "metadata": {},
   "outputs": [],
   "source": [
    "import myfunctions as myf\n",
    "import dill"
   ]
  },
  {
   "cell_type": "code",
   "execution_count": 2,
   "metadata": {},
   "outputs": [],
   "source": [
    "# Lancement de Mlflow\n",
    "import mlflow\n",
    "from mlflow.tracking import MlflowClient\n",
    "\n",
    "# Démarrer le serveur MLflow\n",
    "mlflow_process = myf.start_mlflow_server()\n",
    "mlflow.set_tracking_uri(\"http://localhost:5000\")"
   ]
  },
  {
   "cell_type": "code",
   "execution_count": 6,
   "metadata": {},
   "outputs": [
    {
     "name": "stderr",
     "output_type": "stream",
     "text": [
      "Downloading artifacts:   0%|          | 0/1 [00:00<?, ?it/s]"
     ]
    },
    {
     "name": "stderr",
     "output_type": "stream",
     "text": [
      "Downloading artifacts: 100%|██████████| 1/1 [00:00<00:00, 108.79it/s]\n"
     ]
    }
   ],
   "source": [
    "# Spécifiez le chemin du modèle\n",
    "run_id = \"ba44c89cffc54629948b47323dcb0b15\"\n",
    "model_name = \"Tfidf_final\"\n",
    "artifact_name = \"tfidf.dill\"\n",
    "\n",
    "# Chargez le modèle\n",
    "model = mlflow.sklearn.load_model(model_uri=f\"runs:/{run_id}/{model_name}\")\n",
    "\n",
    "# Construct the artifact URI\n",
    "artifact_uri = f\"runs:/{run_id}/{artifact_name}\"\n",
    "# Create an MlflowClient instance\n",
    "client = MlflowClient()\n",
    "# Download the artifact\n",
    "client.download_artifacts(run_id, artifact_name, \"/tmp\")\n",
    "# Load the serialized tfidf\n",
    "with open(\"/tmp/\" + artifact_name, \"rb\") as f:\n",
    "    tfidf = dill.load(f)"
   ]
  },
  {
   "cell_type": "code",
   "execution_count": 6,
   "metadata": {},
   "outputs": [],
   "source": [
    "# Sauvegarde dans le dossier\n",
    "with open('backend/model/model.dill', 'wb') as f:\n",
    "    dill.dump(model, f)"
   ]
  },
  {
   "cell_type": "code",
   "execution_count": 7,
   "metadata": {},
   "outputs": [],
   "source": [
    "# Save tfidf locally\n",
    "with open('backend/model/tfidf.dill', 'wb') as f:\n",
    "    dill.dump(tfidf, f)"
   ]
  },
  {
   "cell_type": "code",
   "execution_count": null,
   "metadata": {},
   "outputs": [],
   "source": []
  }
 ],
 "metadata": {
  "kernelspec": {
   "display_name": "Python 3",
   "language": "python",
   "name": "python3"
  },
  "language_info": {
   "codemirror_mode": {
    "name": "ipython",
    "version": 3
   },
   "file_extension": ".py",
   "mimetype": "text/x-python",
   "name": "python",
   "nbconvert_exporter": "python",
   "pygments_lexer": "ipython3",
   "version": "3.12.3"
  }
 },
 "nbformat": 4,
 "nbformat_minor": 2
}
